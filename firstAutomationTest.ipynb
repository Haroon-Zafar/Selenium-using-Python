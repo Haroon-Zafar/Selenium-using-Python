{
 "cells": [
  {
   "cell_type": "code",
   "execution_count": 1,
   "metadata": {},
   "outputs": [],
   "source": [
    "# Importing webdriver \n",
    "from selenium import webdriver"
   ]
  },
  {
   "cell_type": "code",
   "execution_count": 2,
   "metadata": {},
   "outputs": [],
   "source": [
    "# # executable_path equals to the path where chrome webdriver is installed \n",
    "# Initializing chrome webdriver and storing in a variable\n",
    "driver = webdriver.Chrome()\n",
    "driver.get(\"http://192.168.64.163:99/api/swagger/index.html\")\n",
    "\n",
    "# maximizing the chrome window\n",
    "driver.maximize_window()"
   ]
  },
  {
   "cell_type": "code",
   "execution_count": 1,
   "metadata": {},
   "outputs": [],
   "source": [
    "# import subprocess\n",
    "\n",
    "# # Path to the application executable\n",
    "# app_path = r\"C:\\ProgramData\\Microsoft\\Windows\\Start Menu\\Programs\\FortiClient VPN\"\n",
    "\n",
    "# # Open the application\n",
    "# subprocess.Popen([app_path])"
   ]
  },
  {
   "cell_type": "code",
   "execution_count": 9,
   "metadata": {},
   "outputs": [],
   "source": [
    "from pywinauto import Application\n",
    "import time\n",
    "import os"
   ]
  },
  {
   "cell_type": "code",
   "execution_count": 11,
   "metadata": {},
   "outputs": [
    {
     "ename": "FileNotFoundError",
     "evalue": "The application path C:\\ProgramData\\Microsoft\\Windows\\Start Menu\\Programs\\FortiClient VPN.exe does not exist.",
     "output_type": "error",
     "traceback": [
      "\u001b[1;31m---------------------------------------------------------------------------\u001b[0m",
      "\u001b[1;31mFileNotFoundError\u001b[0m                         Traceback (most recent call last)",
      "Cell \u001b[1;32mIn[11], line 5\u001b[0m\n\u001b[0;32m      3\u001b[0m \u001b[38;5;66;03m# Check if the path exists\u001b[39;00m\n\u001b[0;32m      4\u001b[0m \u001b[38;5;28;01mif\u001b[39;00m \u001b[38;5;129;01mnot\u001b[39;00m os\u001b[38;5;241m.\u001b[39mpath\u001b[38;5;241m.\u001b[39mexists(app_path):\n\u001b[1;32m----> 5\u001b[0m     \u001b[38;5;28;01mraise\u001b[39;00m \u001b[38;5;167;01mFileNotFoundError\u001b[39;00m(\u001b[38;5;124mf\u001b[39m\u001b[38;5;124m\"\u001b[39m\u001b[38;5;124mThe application path \u001b[39m\u001b[38;5;132;01m{\u001b[39;00mapp_path\u001b[38;5;132;01m}\u001b[39;00m\u001b[38;5;124m does not exist.\u001b[39m\u001b[38;5;124m\"\u001b[39m)\n\u001b[0;32m      7\u001b[0m \u001b[38;5;66;03m# Start FortiClient VPN\u001b[39;00m\n\u001b[0;32m      8\u001b[0m app \u001b[38;5;241m=\u001b[39m Application()\u001b[38;5;241m.\u001b[39mstart(app_path)\n",
      "\u001b[1;31mFileNotFoundError\u001b[0m: The application path C:\\ProgramData\\Microsoft\\Windows\\Start Menu\\Programs\\FortiClient VPN.exe does not exist."
     ]
    }
   ],
   "source": [
    "app_path = r\"C:\\ProgramData\\Microsoft\\Windows\\Start Menu\\Programs\\FortiClient VPN.exe\"\n",
    "\n",
    "# Check if the path exists\n",
    "if not os.path.exists(app_path):\n",
    "    raise FileNotFoundError(f\"The application path {app_path} does not exist.\")\n",
    "\n",
    "# Start FortiClient VPN\n",
    "app = Application().start(app_path)"
   ]
  },
  {
   "cell_type": "code",
   "execution_count": null,
   "metadata": {},
   "outputs": [],
   "source": []
  }
 ],
 "metadata": {
  "kernelspec": {
   "display_name": "Python 3",
   "language": "python",
   "name": "python3"
  },
  "language_info": {
   "codemirror_mode": {
    "name": "ipython",
    "version": 3
   },
   "file_extension": ".py",
   "mimetype": "text/x-python",
   "name": "python",
   "nbconvert_exporter": "python",
   "pygments_lexer": "ipython3",
   "version": "3.10.0"
  }
 },
 "nbformat": 4,
 "nbformat_minor": 2
}
